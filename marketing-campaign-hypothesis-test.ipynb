{
 "cells": [
  {
   "cell_type": "markdown",
   "id": "b6c493d3",
   "metadata": {
    "papermill": {
     "duration": 0.00463,
     "end_time": "2022-07-24T14:22:43.890917",
     "exception": false,
     "start_time": "2022-07-24T14:22:43.886287",
     "status": "completed"
    },
    "tags": []
   },
   "source": [
    "> *Hypothesis Test and Descriptive Statistic to find out whether education level effects income or not."
   ]
  },
  {
   "cell_type": "code",
   "execution_count": 1,
   "id": "063561cc",
   "metadata": {
    "execution": {
     "iopub.execute_input": "2022-07-24T14:22:43.900908Z",
     "iopub.status.busy": "2022-07-24T14:22:43.900196Z",
     "iopub.status.idle": "2022-07-24T14:22:44.828226Z",
     "shell.execute_reply": "2022-07-24T14:22:44.827161Z"
    },
    "papermill": {
     "duration": 0.936299,
     "end_time": "2022-07-24T14:22:44.831011",
     "exception": false,
     "start_time": "2022-07-24T14:22:43.894712",
     "status": "completed"
    },
    "tags": []
   },
   "outputs": [],
   "source": [
    "#Import Library\n",
    "import pandas as pd\n",
    "import numpy as np\n",
    "import scipy.stats as st"
   ]
  },
  {
   "cell_type": "code",
   "execution_count": 2,
   "id": "cab8e31f",
   "metadata": {
    "execution": {
     "iopub.execute_input": "2022-07-24T14:22:44.840949Z",
     "iopub.status.busy": "2022-07-24T14:22:44.840033Z",
     "iopub.status.idle": "2022-07-24T14:22:45.028366Z",
     "shell.execute_reply": "2022-07-24T14:22:45.027152Z"
    },
    "papermill": {
     "duration": 0.196432,
     "end_time": "2022-07-24T14:22:45.031254",
     "exception": false,
     "start_time": "2022-07-24T14:22:44.834822",
     "status": "completed"
    },
    "tags": []
   },
   "outputs": [
    {
     "data": {
      "text/html": [
       "<div>\n",
       "<style scoped>\n",
       "    .dataframe tbody tr th:only-of-type {\n",
       "        vertical-align: middle;\n",
       "    }\n",
       "\n",
       "    .dataframe tbody tr th {\n",
       "        vertical-align: top;\n",
       "    }\n",
       "\n",
       "    .dataframe thead th {\n",
       "        text-align: right;\n",
       "    }\n",
       "</style>\n",
       "<table border=\"1\" class=\"dataframe\">\n",
       "  <thead>\n",
       "    <tr style=\"text-align: right;\">\n",
       "      <th></th>\n",
       "      <th>ID</th>\n",
       "      <th>Year_Birth</th>\n",
       "      <th>Education</th>\n",
       "      <th>Marital_Status</th>\n",
       "      <th>Income</th>\n",
       "      <th>Kidhome</th>\n",
       "      <th>Teenhome</th>\n",
       "      <th>Dt_Customer</th>\n",
       "      <th>Recency</th>\n",
       "      <th>MntWines</th>\n",
       "      <th>...</th>\n",
       "      <th>NumWebVisitsMonth</th>\n",
       "      <th>AcceptedCmp3</th>\n",
       "      <th>AcceptedCmp4</th>\n",
       "      <th>AcceptedCmp5</th>\n",
       "      <th>AcceptedCmp1</th>\n",
       "      <th>AcceptedCmp2</th>\n",
       "      <th>Complain</th>\n",
       "      <th>Z_CostContact</th>\n",
       "      <th>Z_Revenue</th>\n",
       "      <th>Response</th>\n",
       "    </tr>\n",
       "  </thead>\n",
       "  <tbody>\n",
       "    <tr>\n",
       "      <th>0</th>\n",
       "      <td>5524</td>\n",
       "      <td>1957</td>\n",
       "      <td>Graduation</td>\n",
       "      <td>Single</td>\n",
       "      <td>58138.0</td>\n",
       "      <td>0</td>\n",
       "      <td>0</td>\n",
       "      <td>04-09-2012</td>\n",
       "      <td>58</td>\n",
       "      <td>635</td>\n",
       "      <td>...</td>\n",
       "      <td>7</td>\n",
       "      <td>0</td>\n",
       "      <td>0</td>\n",
       "      <td>0</td>\n",
       "      <td>0</td>\n",
       "      <td>0</td>\n",
       "      <td>0</td>\n",
       "      <td>3</td>\n",
       "      <td>11</td>\n",
       "      <td>1</td>\n",
       "    </tr>\n",
       "    <tr>\n",
       "      <th>1</th>\n",
       "      <td>2174</td>\n",
       "      <td>1954</td>\n",
       "      <td>Graduation</td>\n",
       "      <td>Single</td>\n",
       "      <td>46344.0</td>\n",
       "      <td>1</td>\n",
       "      <td>1</td>\n",
       "      <td>08-03-2014</td>\n",
       "      <td>38</td>\n",
       "      <td>11</td>\n",
       "      <td>...</td>\n",
       "      <td>5</td>\n",
       "      <td>0</td>\n",
       "      <td>0</td>\n",
       "      <td>0</td>\n",
       "      <td>0</td>\n",
       "      <td>0</td>\n",
       "      <td>0</td>\n",
       "      <td>3</td>\n",
       "      <td>11</td>\n",
       "      <td>0</td>\n",
       "    </tr>\n",
       "    <tr>\n",
       "      <th>2</th>\n",
       "      <td>4141</td>\n",
       "      <td>1965</td>\n",
       "      <td>Graduation</td>\n",
       "      <td>Together</td>\n",
       "      <td>71613.0</td>\n",
       "      <td>0</td>\n",
       "      <td>0</td>\n",
       "      <td>21-08-2013</td>\n",
       "      <td>26</td>\n",
       "      <td>426</td>\n",
       "      <td>...</td>\n",
       "      <td>4</td>\n",
       "      <td>0</td>\n",
       "      <td>0</td>\n",
       "      <td>0</td>\n",
       "      <td>0</td>\n",
       "      <td>0</td>\n",
       "      <td>0</td>\n",
       "      <td>3</td>\n",
       "      <td>11</td>\n",
       "      <td>0</td>\n",
       "    </tr>\n",
       "    <tr>\n",
       "      <th>3</th>\n",
       "      <td>6182</td>\n",
       "      <td>1984</td>\n",
       "      <td>Graduation</td>\n",
       "      <td>Together</td>\n",
       "      <td>26646.0</td>\n",
       "      <td>1</td>\n",
       "      <td>0</td>\n",
       "      <td>10-02-2014</td>\n",
       "      <td>26</td>\n",
       "      <td>11</td>\n",
       "      <td>...</td>\n",
       "      <td>6</td>\n",
       "      <td>0</td>\n",
       "      <td>0</td>\n",
       "      <td>0</td>\n",
       "      <td>0</td>\n",
       "      <td>0</td>\n",
       "      <td>0</td>\n",
       "      <td>3</td>\n",
       "      <td>11</td>\n",
       "      <td>0</td>\n",
       "    </tr>\n",
       "    <tr>\n",
       "      <th>4</th>\n",
       "      <td>5324</td>\n",
       "      <td>1981</td>\n",
       "      <td>PhD</td>\n",
       "      <td>Married</td>\n",
       "      <td>58293.0</td>\n",
       "      <td>1</td>\n",
       "      <td>0</td>\n",
       "      <td>19-01-2014</td>\n",
       "      <td>94</td>\n",
       "      <td>173</td>\n",
       "      <td>...</td>\n",
       "      <td>5</td>\n",
       "      <td>0</td>\n",
       "      <td>0</td>\n",
       "      <td>0</td>\n",
       "      <td>0</td>\n",
       "      <td>0</td>\n",
       "      <td>0</td>\n",
       "      <td>3</td>\n",
       "      <td>11</td>\n",
       "      <td>0</td>\n",
       "    </tr>\n",
       "    <tr>\n",
       "      <th>...</th>\n",
       "      <td>...</td>\n",
       "      <td>...</td>\n",
       "      <td>...</td>\n",
       "      <td>...</td>\n",
       "      <td>...</td>\n",
       "      <td>...</td>\n",
       "      <td>...</td>\n",
       "      <td>...</td>\n",
       "      <td>...</td>\n",
       "      <td>...</td>\n",
       "      <td>...</td>\n",
       "      <td>...</td>\n",
       "      <td>...</td>\n",
       "      <td>...</td>\n",
       "      <td>...</td>\n",
       "      <td>...</td>\n",
       "      <td>...</td>\n",
       "      <td>...</td>\n",
       "      <td>...</td>\n",
       "      <td>...</td>\n",
       "      <td>...</td>\n",
       "    </tr>\n",
       "    <tr>\n",
       "      <th>2235</th>\n",
       "      <td>10870</td>\n",
       "      <td>1967</td>\n",
       "      <td>Graduation</td>\n",
       "      <td>Married</td>\n",
       "      <td>61223.0</td>\n",
       "      <td>0</td>\n",
       "      <td>1</td>\n",
       "      <td>13-06-2013</td>\n",
       "      <td>46</td>\n",
       "      <td>709</td>\n",
       "      <td>...</td>\n",
       "      <td>5</td>\n",
       "      <td>0</td>\n",
       "      <td>0</td>\n",
       "      <td>0</td>\n",
       "      <td>0</td>\n",
       "      <td>0</td>\n",
       "      <td>0</td>\n",
       "      <td>3</td>\n",
       "      <td>11</td>\n",
       "      <td>0</td>\n",
       "    </tr>\n",
       "    <tr>\n",
       "      <th>2236</th>\n",
       "      <td>4001</td>\n",
       "      <td>1946</td>\n",
       "      <td>PhD</td>\n",
       "      <td>Together</td>\n",
       "      <td>64014.0</td>\n",
       "      <td>2</td>\n",
       "      <td>1</td>\n",
       "      <td>10-06-2014</td>\n",
       "      <td>56</td>\n",
       "      <td>406</td>\n",
       "      <td>...</td>\n",
       "      <td>7</td>\n",
       "      <td>0</td>\n",
       "      <td>0</td>\n",
       "      <td>0</td>\n",
       "      <td>1</td>\n",
       "      <td>0</td>\n",
       "      <td>0</td>\n",
       "      <td>3</td>\n",
       "      <td>11</td>\n",
       "      <td>0</td>\n",
       "    </tr>\n",
       "    <tr>\n",
       "      <th>2237</th>\n",
       "      <td>7270</td>\n",
       "      <td>1981</td>\n",
       "      <td>Graduation</td>\n",
       "      <td>Divorced</td>\n",
       "      <td>56981.0</td>\n",
       "      <td>0</td>\n",
       "      <td>0</td>\n",
       "      <td>25-01-2014</td>\n",
       "      <td>91</td>\n",
       "      <td>908</td>\n",
       "      <td>...</td>\n",
       "      <td>6</td>\n",
       "      <td>0</td>\n",
       "      <td>1</td>\n",
       "      <td>0</td>\n",
       "      <td>0</td>\n",
       "      <td>0</td>\n",
       "      <td>0</td>\n",
       "      <td>3</td>\n",
       "      <td>11</td>\n",
       "      <td>0</td>\n",
       "    </tr>\n",
       "    <tr>\n",
       "      <th>2238</th>\n",
       "      <td>8235</td>\n",
       "      <td>1956</td>\n",
       "      <td>Master</td>\n",
       "      <td>Together</td>\n",
       "      <td>69245.0</td>\n",
       "      <td>0</td>\n",
       "      <td>1</td>\n",
       "      <td>24-01-2014</td>\n",
       "      <td>8</td>\n",
       "      <td>428</td>\n",
       "      <td>...</td>\n",
       "      <td>3</td>\n",
       "      <td>0</td>\n",
       "      <td>0</td>\n",
       "      <td>0</td>\n",
       "      <td>0</td>\n",
       "      <td>0</td>\n",
       "      <td>0</td>\n",
       "      <td>3</td>\n",
       "      <td>11</td>\n",
       "      <td>0</td>\n",
       "    </tr>\n",
       "    <tr>\n",
       "      <th>2239</th>\n",
       "      <td>9405</td>\n",
       "      <td>1954</td>\n",
       "      <td>PhD</td>\n",
       "      <td>Married</td>\n",
       "      <td>52869.0</td>\n",
       "      <td>1</td>\n",
       "      <td>1</td>\n",
       "      <td>15-10-2012</td>\n",
       "      <td>40</td>\n",
       "      <td>84</td>\n",
       "      <td>...</td>\n",
       "      <td>7</td>\n",
       "      <td>0</td>\n",
       "      <td>0</td>\n",
       "      <td>0</td>\n",
       "      <td>0</td>\n",
       "      <td>0</td>\n",
       "      <td>0</td>\n",
       "      <td>3</td>\n",
       "      <td>11</td>\n",
       "      <td>1</td>\n",
       "    </tr>\n",
       "  </tbody>\n",
       "</table>\n",
       "<p>2216 rows × 29 columns</p>\n",
       "</div>"
      ],
      "text/plain": [
       "         ID  Year_Birth   Education Marital_Status   Income  Kidhome  \\\n",
       "0      5524        1957  Graduation         Single  58138.0        0   \n",
       "1      2174        1954  Graduation         Single  46344.0        1   \n",
       "2      4141        1965  Graduation       Together  71613.0        0   \n",
       "3      6182        1984  Graduation       Together  26646.0        1   \n",
       "4      5324        1981         PhD        Married  58293.0        1   \n",
       "...     ...         ...         ...            ...      ...      ...   \n",
       "2235  10870        1967  Graduation        Married  61223.0        0   \n",
       "2236   4001        1946         PhD       Together  64014.0        2   \n",
       "2237   7270        1981  Graduation       Divorced  56981.0        0   \n",
       "2238   8235        1956      Master       Together  69245.0        0   \n",
       "2239   9405        1954         PhD        Married  52869.0        1   \n",
       "\n",
       "      Teenhome Dt_Customer  Recency  MntWines  ...  NumWebVisitsMonth  \\\n",
       "0            0  04-09-2012       58       635  ...                  7   \n",
       "1            1  08-03-2014       38        11  ...                  5   \n",
       "2            0  21-08-2013       26       426  ...                  4   \n",
       "3            0  10-02-2014       26        11  ...                  6   \n",
       "4            0  19-01-2014       94       173  ...                  5   \n",
       "...        ...         ...      ...       ...  ...                ...   \n",
       "2235         1  13-06-2013       46       709  ...                  5   \n",
       "2236         1  10-06-2014       56       406  ...                  7   \n",
       "2237         0  25-01-2014       91       908  ...                  6   \n",
       "2238         1  24-01-2014        8       428  ...                  3   \n",
       "2239         1  15-10-2012       40        84  ...                  7   \n",
       "\n",
       "      AcceptedCmp3  AcceptedCmp4  AcceptedCmp5  AcceptedCmp1  AcceptedCmp2  \\\n",
       "0                0             0             0             0             0   \n",
       "1                0             0             0             0             0   \n",
       "2                0             0             0             0             0   \n",
       "3                0             0             0             0             0   \n",
       "4                0             0             0             0             0   \n",
       "...            ...           ...           ...           ...           ...   \n",
       "2235             0             0             0             0             0   \n",
       "2236             0             0             0             1             0   \n",
       "2237             0             1             0             0             0   \n",
       "2238             0             0             0             0             0   \n",
       "2239             0             0             0             0             0   \n",
       "\n",
       "      Complain  Z_CostContact  Z_Revenue  Response  \n",
       "0            0              3         11         1  \n",
       "1            0              3         11         0  \n",
       "2            0              3         11         0  \n",
       "3            0              3         11         0  \n",
       "4            0              3         11         0  \n",
       "...        ...            ...        ...       ...  \n",
       "2235         0              3         11         0  \n",
       "2236         0              3         11         0  \n",
       "2237         0              3         11         0  \n",
       "2238         0              3         11         0  \n",
       "2239         0              3         11         1  \n",
       "\n",
       "[2216 rows x 29 columns]"
      ]
     },
     "execution_count": 2,
     "metadata": {},
     "output_type": "execute_result"
    }
   ],
   "source": [
    "#Read Dataset\n",
    "df = pd.read_csv('../input/marketing-campaign-hypothesis-testing/marketing_campaign.csv', sep='\\t')\n",
    "df = df.dropna()\n",
    "df\n"
   ]
  },
  {
   "cell_type": "markdown",
   "id": "dfd70489",
   "metadata": {
    "papermill": {
     "duration": 0.004799,
     "end_time": "2022-07-24T14:22:45.040563",
     "exception": false,
     "start_time": "2022-07-24T14:22:45.035764",
     "status": "completed"
    },
    "tags": []
   },
   "source": [
    "The First Phase is designing the hypothesis null (H0) and the hypothesis alternative (Ha)"
   ]
  },
  {
   "cell_type": "markdown",
   "id": "c68e0fb2",
   "metadata": {
    "papermill": {
     "duration": 0.004122,
     "end_time": "2022-07-24T14:22:45.049234",
     "exception": false,
     "start_time": "2022-07-24T14:22:45.045112",
     "status": "completed"
    },
    "tags": []
   },
   "source": [
    "H0 = Education level has no effect on income, Ha = Education level has effect on income"
   ]
  },
  {
   "cell_type": "code",
   "execution_count": 3,
   "id": "21e36c6a",
   "metadata": {
    "execution": {
     "iopub.execute_input": "2022-07-24T14:22:45.060603Z",
     "iopub.status.busy": "2022-07-24T14:22:45.060168Z",
     "iopub.status.idle": "2022-07-24T14:22:45.076415Z",
     "shell.execute_reply": "2022-07-24T14:22:45.075163Z"
    },
    "papermill": {
     "duration": 0.025006,
     "end_time": "2022-07-24T14:22:45.078822",
     "exception": false,
     "start_time": "2022-07-24T14:22:45.053816",
     "status": "completed"
    },
    "tags": []
   },
   "outputs": [],
   "source": [
    "Graduation = df[df['Education']== 'Graduation']\n",
    "PhD = df[df['Education'] == 'PhD']\n",
    "Master = df[df['Education'] == 'Master']\n",
    "Second_Cycle = df[df['Education'] == '2n Cycle']\n",
    "Basic = df[df['Education'] == 'Basic']"
   ]
  },
  {
   "cell_type": "code",
   "execution_count": 4,
   "id": "36489380",
   "metadata": {
    "execution": {
     "iopub.execute_input": "2022-07-24T14:22:45.090005Z",
     "iopub.status.busy": "2022-07-24T14:22:45.089620Z",
     "iopub.status.idle": "2022-07-24T14:22:45.103234Z",
     "shell.execute_reply": "2022-07-24T14:22:45.101982Z"
    },
    "papermill": {
     "duration": 0.022123,
     "end_time": "2022-07-24T14:22:45.105737",
     "exception": false,
     "start_time": "2022-07-24T14:22:45.083614",
     "status": "completed"
    },
    "tags": []
   },
   "outputs": [
    {
     "data": {
      "text/plain": [
       "Graduation    1116\n",
       "PhD            481\n",
       "Master         365\n",
       "2n Cycle       200\n",
       "Basic           54\n",
       "Name: Education, dtype: int64"
      ]
     },
     "execution_count": 4,
     "metadata": {},
     "output_type": "execute_result"
    }
   ],
   "source": [
    "df.Education.value_counts()"
   ]
  },
  {
   "cell_type": "code",
   "execution_count": 5,
   "id": "50aa9e5f",
   "metadata": {
    "execution": {
     "iopub.execute_input": "2022-07-24T14:22:45.117485Z",
     "iopub.status.busy": "2022-07-24T14:22:45.117031Z",
     "iopub.status.idle": "2022-07-24T14:22:45.124901Z",
     "shell.execute_reply": "2022-07-24T14:22:45.123429Z"
    },
    "papermill": {
     "duration": 0.016527,
     "end_time": "2022-07-24T14:22:45.127301",
     "exception": false,
     "start_time": "2022-07-24T14:22:45.110774",
     "status": "completed"
    },
    "tags": []
   },
   "outputs": [],
   "source": [
    "anova_test = st.f_oneway(Graduation['Income'],\n",
    "                         PhD['Income'],Master['Income'],Second_Cycle['Income'],Basic['Income'])"
   ]
  },
  {
   "cell_type": "code",
   "execution_count": 6,
   "id": "89bd82e4",
   "metadata": {
    "execution": {
     "iopub.execute_input": "2022-07-24T14:22:45.138923Z",
     "iopub.status.busy": "2022-07-24T14:22:45.138354Z",
     "iopub.status.idle": "2022-07-24T14:22:45.144874Z",
     "shell.execute_reply": "2022-07-24T14:22:45.144140Z"
    },
    "papermill": {
     "duration": 0.015125,
     "end_time": "2022-07-24T14:22:45.147121",
     "exception": false,
     "start_time": "2022-07-24T14:22:45.131996",
     "status": "completed"
    },
    "tags": []
   },
   "outputs": [
    {
     "data": {
      "text/plain": [
       "1.6677281316366318e-22"
      ]
     },
     "execution_count": 6,
     "metadata": {},
     "output_type": "execute_result"
    }
   ],
   "source": [
    "anova_test.pvalue"
   ]
  },
  {
   "cell_type": "markdown",
   "id": "4fdf2b30",
   "metadata": {
    "papermill": {
     "duration": 0.00445,
     "end_time": "2022-07-24T14:22:45.156372",
     "exception": false,
     "start_time": "2022-07-24T14:22:45.151922",
     "status": "completed"
    },
    "tags": []
   },
   "source": [
    "The second phase is testing hypothesis by using ONE_WAY ANOVA"
   ]
  },
  {
   "cell_type": "code",
   "execution_count": 7,
   "id": "f236363a",
   "metadata": {
    "execution": {
     "iopub.execute_input": "2022-07-24T14:22:45.167284Z",
     "iopub.status.busy": "2022-07-24T14:22:45.166891Z",
     "iopub.status.idle": "2022-07-24T14:22:45.173446Z",
     "shell.execute_reply": "2022-07-24T14:22:45.172275Z"
    },
    "papermill": {
     "duration": 0.014679,
     "end_time": "2022-07-24T14:22:45.175783",
     "exception": false,
     "start_time": "2022-07-24T14:22:45.161104",
     "status": "completed"
    },
    "tags": []
   },
   "outputs": [
    {
     "name": "stdout",
     "output_type": "stream",
     "text": [
      "Education has an effect on income\n"
     ]
    }
   ],
   "source": [
    "if anova_test.pvalue>0.05:\n",
    "    print('Education has no effect on income')\n",
    "else:\n",
    "    print('Education has an effect on income')"
   ]
  },
  {
   "cell_type": "markdown",
   "id": "72fe6d21",
   "metadata": {
    "papermill": {
     "duration": 0.004384,
     "end_time": "2022-07-24T14:22:45.185186",
     "exception": false,
     "start_time": "2022-07-24T14:22:45.180802",
     "status": "completed"
    },
    "tags": []
   },
   "source": [
    "Based on the analysis above, it shows that P-Value (1.667) > alpha (0.50) meaning that it is strongly enough to reject H0 and to accept Ha. Therefore, it can be interpreted that the education level significantly effects the invidual's income."
   ]
  }
 ],
 "metadata": {
  "kernelspec": {
   "display_name": "Python 3",
   "language": "python",
   "name": "python3"
  },
  "language_info": {
   "codemirror_mode": {
    "name": "ipython",
    "version": 3
   },
   "file_extension": ".py",
   "mimetype": "text/x-python",
   "name": "python",
   "nbconvert_exporter": "python",
   "pygments_lexer": "ipython3",
   "version": "3.7.12"
  },
  "papermill": {
   "default_parameters": {},
   "duration": 12.405459,
   "end_time": "2022-07-24T14:22:45.911635",
   "environment_variables": {},
   "exception": null,
   "input_path": "__notebook__.ipynb",
   "output_path": "__notebook__.ipynb",
   "parameters": {},
   "start_time": "2022-07-24T14:22:33.506176",
   "version": "2.3.4"
  }
 },
 "nbformat": 4,
 "nbformat_minor": 5
}
